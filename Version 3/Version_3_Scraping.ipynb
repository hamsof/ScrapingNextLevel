{
 "cells": [
  {
   "cell_type": "markdown",
   "id": "b23bc059",
   "metadata": {},
   "source": [
    "# Welcome to the Scraping of our version 3 "
   ]
  },
  {
   "cell_type": "code",
   "execution_count": 1,
   "id": "6f081763",
   "metadata": {},
   "outputs": [],
   "source": [
    "import requests\n",
    "from bs4 import BeautifulSoup"
   ]
  },
  {
   "cell_type": "code",
   "execution_count": 2,
   "id": "04cd3f9a",
   "metadata": {},
   "outputs": [],
   "source": [
    "url = 'https://hamsof.github.io/simple-book-show/'"
   ]
  },
  {
   "cell_type": "code",
   "execution_count": 3,
   "id": "4db847a4",
   "metadata": {},
   "outputs": [],
   "source": [
    "r = requests.get(url)\n",
    "soup = BeautifulSoup(r.text,'html.parser')"
   ]
  },
  {
   "cell_type": "code",
   "execution_count": 4,
   "id": "4d10cfd2",
   "metadata": {},
   "outputs": [],
   "source": [
    "# required lists\n",
    "\n",
    "book_types = list()\n",
    "file_names = list()\n",
    "\n",
    "book_names = list()\n",
    "book_links = list()\n",
    "prices = list()\n",
    "stocks = list()\n",
    "reviews = list()\n",
    "\n"
   ]
  },
  {
   "cell_type": "markdown",
   "id": "0baaf627",
   "metadata": {},
   "source": [
    "#### Now we know the the website is designed through flex box and grid model of Bootsrap which uses divs and proper classes so we will access these data with the help of classes names"
   ]
  },
  {
   "cell_type": "code",
   "execution_count": 5,
   "id": "a2bebab4",
   "metadata": {},
   "outputs": [],
   "source": [
    "#Book Types This is present in the li tag of book_type classes\n",
    "\n",
    "\n",
    "\n",
    "book_types = soup.find_all(\"li\",{\"class\",\"book_type\"})"
   ]
  },
  {
   "cell_type": "code",
   "execution_count": 6,
   "id": "835e418f",
   "metadata": {},
   "outputs": [
    {
     "name": "stdout",
     "output_type": "stream",
     "text": [
      "[<li class=\"link book_type\"><a href=\"index.html\">Operating System</a></li>, <li class=\"link book_type\"><a href=\"SP.html\">System Programming</a></li>, <li class=\"link book_type\"><a href=\"CA.html\">Computer Architecture</a></li>]\n"
     ]
    }
   ],
   "source": [
    "print(book_types)"
   ]
  },
  {
   "cell_type": "code",
   "execution_count": 7,
   "id": "40891269",
   "metadata": {},
   "outputs": [
    {
     "name": "stdout",
     "output_type": "stream",
     "text": [
      "Operating System\n",
      "System Programming\n",
      "Computer Architecture\n"
     ]
    }
   ],
   "source": [
    "#For proper formet:\n",
    "\n",
    "for i in book_types:\n",
    "    print(i.text)\n",
    "    "
   ]
  },
  {
   "cell_type": "markdown",
   "id": "782f9491",
   "metadata": {},
   "source": [
    "#### The Fisrt index.html which is on the github pages is showing books of type OS we can change the url placing the book type html page at end of url and the file names can be accessed through the book_type attribute href link"
   ]
  },
  {
   "cell_type": "code",
   "execution_count": 8,
   "id": "d4c65d97",
   "metadata": {},
   "outputs": [
    {
     "name": "stdout",
     "output_type": "stream",
     "text": [
      "index.html\n",
      "SP.html\n",
      "CA.html\n"
     ]
    }
   ],
   "source": [
    "#Just see to get the file names of book type\n",
    "#We can see that the link is present inside of a tag which is inside of booktype class so we can find a inside of every enrty\n",
    "#of book type \n",
    "# We have to select particuler tag a inside of this class\n",
    "\n",
    "\n",
    "for i in book_types:\n",
    "    file_names.append(i.find('a'))\n",
    "    \n",
    "for i in file_names:\n",
    "    print(i['href']) # attribute selected\n",
    "\n",
    "    "
   ]
  },
  {
   "cell_type": "markdown",
   "id": "c33f7218",
   "metadata": {},
   "source": [
    "#### Now finding the details of books"
   ]
  },
  {
   "cell_type": "code",
   "execution_count": 9,
   "id": "8063e487",
   "metadata": {},
   "outputs": [
    {
     "name": "stdout",
     "output_type": "stream",
     "text": [
      "Operating System Concepts By Avi Silberschatz\n",
      "UNIX The TextbookBy Syed Mansoor Sarwar\n",
      "Taxonomy of IDS By Arif Butt\n",
      "Understanding operating systems By Ida Flynn\n",
      "Computer Systems  By Randal E. Bryant \n",
      "Linux bible  Book by Christopher Negus\n",
      "Advanced Programming in the UNIX Environment  By W. Stevans\n",
      "Operating Systems: A Design-oriented Approach By Charles Patrick Crowley\n",
      "Hands-On Network Programming with C  By Lewis Van Winkle\n"
     ]
    }
   ],
   "source": [
    "#book names\n",
    "\n",
    "\n",
    "book_names = soup.find_all('p',{'class','book_name'})\n",
    "\n",
    "for i in book_names:\n",
    "    print(i.text)"
   ]
  },
  {
   "cell_type": "code",
   "execution_count": 10,
   "id": "e3248848",
   "metadata": {},
   "outputs": [
    {
     "name": "stdout",
     "output_type": "stream",
     "text": [
      "https://www.amazon.com/Operating-System-Concepts-Abridged-Companion/dp/1119456339\n",
      "https://www.google.com/search?q=Unix+the+textbook+by+mansoor&rlz=1C1CHBD_enPK987PK987&oq=unix+the+textbook+by+mansoor&aqs=chrome.0.69i59j69i57j69i59j69i60l5.4419j0j7&sourceid=chrome&ie=UTF-8\n",
      "https://www.amazon.in/Taxonomy-Ids-Arif-Butt/dp/3639294092\n",
      "https://www.amazon.com/Understanding-Operating-Systems-Ann-McHoes/dp/1305674251\n",
      "https://www.goodreads.com/book/show/829182.Computer_Systems\n",
      "https://www.amazon.com/Linux-Bible-Christopher-Negus/dp/111821854X\n",
      "https://www.amazon.com/dp/0321637739?tag=uuid10-20\n",
      "https://www.amazon.com/s?k=Operating+Systems%3A+A+Design-oriented+Approach&i=stripbooks-intl-ship&ref=nb_sb_noss\n",
      "https://www.amazon.com/Hands-Network-Programming-programming-optimized/dp/1789349869/ref=sr_1_1?crid=11FC0M0GAFA21&&keywords=unix+network+programming+2019&&qid=1653381349&&s=books&&sprefix=unix+network+programming+2019%2Cstripbooks-intl-ship%2C356&&sr=1-1\n"
     ]
    }
   ],
   "source": [
    "#book links\n",
    "\n",
    "#book links are present inside of class book name a tag href attribute\n",
    "#just like same as we did in filenames\n",
    "\n",
    "for i in book_names:\n",
    "    book_links.append(i.find('a'))\n",
    "    \n",
    "for i in book_links:\n",
    "    print(i['href'])\n"
   ]
  },
  {
   "cell_type": "code",
   "execution_count": 11,
   "id": "f4d7a8ba",
   "metadata": {},
   "outputs": [
    {
     "name": "stdout",
     "output_type": "stream",
     "text": [
      "[<p class=\"price green\">Rs.2000</p>, <p class=\"price green\">Rs.5000</p>, <p class=\"price green\">Rs.6900</p>, <p class=\"price green\">Rs.2700</p>, <p class=\"price green\">Rs.1700</p>, <p class=\"price green\">Rs.1800</p>, <p class=\"price green\">Rs.6000</p>, <p class=\"price green\">Rs.1000</p>, <p class=\"price green\">Rs.1800</p>]\n",
      " \n",
      "Rs.2000\n",
      "Rs.5000\n",
      "Rs.6900\n",
      "Rs.2700\n",
      "Rs.1700\n",
      "Rs.1800\n",
      "Rs.6000\n",
      "Rs.1000\n",
      "Rs.1800\n"
     ]
    }
   ],
   "source": [
    "#prices\n",
    "\n",
    "prices = soup.find_all('p',{'class','price'})\n",
    "\n",
    "print(prices)\n",
    "\n",
    "print(\" \")\n",
    "#For proper formet:\n",
    "\n",
    "for i in prices:\n",
    "    print(i.text)"
   ]
  },
  {
   "cell_type": "code",
   "execution_count": 12,
   "id": "e0b7858d",
   "metadata": {},
   "outputs": [
    {
     "name": "stdout",
     "output_type": "stream",
     "text": [
      "[<p class=\"stock in_stock\" data-stock=\"in stock\"><i aria-hidden=\"true\" class=\"fa fa-check\"></i> In stock</p>, <p class=\"stock in_stock\" data-stock=\"in stock\"><i aria-hidden=\"true\" class=\"fa fa-check\"></i> In stock</p>, <p class=\"stock not_stock\" data-stock=\"not in stock\"><i aria-hidden=\"true\" class=\"fa fa-times\"></i> Not in stock</p>, <p class=\"stock not_stock\" data-stock=\"not in stock\"><i aria-hidden=\"true\" class=\"fa fa-times\"></i> Not in stock</p>, <p class=\"stock in_stock\" data-stock=\"in stock\"><i aria-hidden=\"true\" class=\"fa fa-check\"></i> In stock</p>, <p class=\"stock not_stock\" data-stock=\"not in stock\"><i aria-hidden=\"true\" class=\"fa fa-times\"></i> Not in stock</p>, <p class=\"stock in_stock\" data-stock=\"in stock\"><i aria-hidden=\"true\" class=\"fa fa-check\"></i> In stock</p>, <p class=\"stock in_stock\" data-stock=\"in stock\"><i aria-hidden=\"true\" class=\"fa fa-check\"></i> In stock</p>, <p class=\"stock in_stock\" data-stock=\"in stock\"><i aria-hidden=\"true\" class=\"fa fa-check\"></i> In stock</p>]\n",
      " \n",
      " In stock\n",
      " In stock\n",
      " Not in stock\n",
      " Not in stock\n",
      " In stock\n",
      " Not in stock\n",
      " In stock\n",
      " In stock\n",
      " In stock\n"
     ]
    }
   ],
   "source": [
    "#stocks\n",
    "\n",
    "stocks = soup.find_all('p',{'class','stock'})\n",
    "\n",
    "print(stocks)\n",
    "\n",
    "print(\" \")\n",
    "#For proper formet:\n",
    "\n",
    "for i in stocks:\n",
    "    print(i.text)"
   ]
  },
  {
   "cell_type": "code",
   "execution_count": 13,
   "id": "3096f739",
   "metadata": {},
   "outputs": [
    {
     "name": "stdout",
     "output_type": "stream",
     "text": [
      "[<p class=\"review green\" data-rating=\"20\">20 Reviews</p>, <p class=\"review green\" data-rating=\"100\">100 Reviews</p>, <p class=\"review green\" data-rating=\"20\">20 Reviews</p>, <p class=\"review green\" data-rating=\"60\">60 Reviews</p>, <p class=\"review green\" data-rating=\"25\">25 Reviews</p>, <p class=\"review green\" data-rating=\"21\">21 Reviews</p>, <p class=\"review green\" data-rating=\"40\">40 Reviews</p>, <p class=\"review green\" data-rating=\"90\">90 Reviews</p>, <p class=\"review green\" data-rating=\"70\">70 Reviews</p>]\n",
      " \n",
      "20\n",
      "100\n",
      "20\n",
      "60\n",
      "25\n",
      "21\n",
      "40\n",
      "90\n",
      "70\n"
     ]
    }
   ],
   "source": [
    "# reviews \n",
    "\n",
    "# this reviews number is set in a attribute data-rating so we will access through it\n",
    "\n",
    "reviews = soup.find_all('p',{'class','review'})\n",
    "\n",
    "print(reviews)\n",
    "\n",
    "print(\" \")\n",
    "#For proper formet:\n",
    "\n",
    "for i in reviews:\n",
    "    print(i['data-rating']) ## attrivute"
   ]
  },
  {
   "cell_type": "markdown",
   "id": "02aa0b2b",
   "metadata": {},
   "source": [
    "## ALL set Now lets print all"
   ]
  },
  {
   "cell_type": "code",
   "execution_count": 14,
   "id": "fb876cec",
   "metadata": {},
   "outputs": [
    {
     "name": "stdout",
     "output_type": "stream",
     "text": [
      "Book : 1\n",
      "       Operating System Concepts By Avi Silberschatz\n",
      "       https://www.amazon.com/Operating-System-Concepts-Abridged-Companion/dp/1119456339\n",
      "       Rs.2000\n",
      "        In stock\n",
      "       20\n",
      "Book : 2\n",
      "       UNIX The TextbookBy Syed Mansoor Sarwar\n",
      "       https://www.google.com/search?q=Unix+the+textbook+by+mansoor&rlz=1C1CHBD_enPK987PK987&oq=unix+the+textbook+by+mansoor&aqs=chrome.0.69i59j69i57j69i59j69i60l5.4419j0j7&sourceid=chrome&ie=UTF-8\n",
      "       Rs.5000\n",
      "        In stock\n",
      "       100\n",
      "Book : 3\n",
      "       Taxonomy of IDS By Arif Butt\n",
      "       https://www.amazon.in/Taxonomy-Ids-Arif-Butt/dp/3639294092\n",
      "       Rs.6900\n",
      "        Not in stock\n",
      "       20\n",
      "Book : 4\n",
      "       Understanding operating systems By Ida Flynn\n",
      "       https://www.amazon.com/Understanding-Operating-Systems-Ann-McHoes/dp/1305674251\n",
      "       Rs.2700\n",
      "        Not in stock\n",
      "       60\n",
      "Book : 5\n",
      "       Computer Systems  By Randal E. Bryant \n",
      "       https://www.goodreads.com/book/show/829182.Computer_Systems\n",
      "       Rs.1700\n",
      "        In stock\n",
      "       25\n",
      "Book : 6\n",
      "       Linux bible  Book by Christopher Negus\n",
      "       https://www.amazon.com/Linux-Bible-Christopher-Negus/dp/111821854X\n",
      "       Rs.1800\n",
      "        Not in stock\n",
      "       21\n",
      "Book : 7\n",
      "       Advanced Programming in the UNIX Environment  By W. Stevans\n",
      "       https://www.amazon.com/dp/0321637739?tag=uuid10-20\n",
      "       Rs.6000\n",
      "        In stock\n",
      "       40\n",
      "Book : 8\n",
      "       Operating Systems: A Design-oriented Approach By Charles Patrick Crowley\n",
      "       https://www.amazon.com/s?k=Operating+Systems%3A+A+Design-oriented+Approach&i=stripbooks-intl-ship&ref=nb_sb_noss\n",
      "       Rs.1000\n",
      "        In stock\n",
      "       90\n",
      "Book : 9\n",
      "       Hands-On Network Programming with C  By Lewis Van Winkle\n",
      "       https://www.amazon.com/Hands-Network-Programming-programming-optimized/dp/1789349869/ref=sr_1_1?crid=11FC0M0GAFA21&&keywords=unix+network+programming+2019&&qid=1653381349&&s=books&&sprefix=unix+network+programming+2019%2Cstripbooks-intl-ship%2C356&&sr=1-1\n",
      "       Rs.1800\n",
      "        In stock\n",
      "       70\n"
     ]
    }
   ],
   "source": [
    "for i in range(9):\n",
    "    print(\"Book :\",i+1)\n",
    "    print(\"      \",book_names[i].text)\n",
    "    print(\"      \",book_links[i]['href'])\n",
    "    print(\"      \",prices[i].text)\n",
    "    print(\"      \",stocks[i].text)\n",
    "    print(\"      \",reviews[i]['data-rating'])"
   ]
  },
  {
   "cell_type": "code",
   "execution_count": null,
   "id": "90984fd8",
   "metadata": {},
   "outputs": [],
   "source": []
  }
 ],
 "metadata": {
  "interpreter": {
   "hash": "0d16605e49b98d503ba2349e5c0b11c5a5990eeb505420b8ec4f9ab34d7a2058"
  },
  "kernelspec": {
   "display_name": "Python 3.9.7 ('base')",
   "language": "python",
   "name": "python3"
  },
  "language_info": {
   "codemirror_mode": {
    "name": "ipython",
    "version": 3
   },
   "file_extension": ".py",
   "mimetype": "text/x-python",
   "name": "python",
   "nbconvert_exporter": "python",
   "pygments_lexer": "ipython3",
   "version": "3.9.7"
  }
 },
 "nbformat": 4,
 "nbformat_minor": 5
}
