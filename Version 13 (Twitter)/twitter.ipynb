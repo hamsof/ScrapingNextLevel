{
 "cells": [
  {
   "cell_type": "code",
   "execution_count": 50,
   "metadata": {},
   "outputs": [],
   "source": [
    "from selenium.webdriver import Chrome\n",
    "from selenium.webdriver.chrome.service import Service\n",
    "from selenium.webdriver.chrome.options import Options\n",
    "from selenium.webdriver.common.by import By\n",
    "from selenium.webdriver.support.ui import WebDriverWait\n",
    "from selenium.webdriver.common.keys import Keys\n",
    "from selenium.webdriver.support import expected_conditions as EC\n",
    "import time\n",
    "from bs4 import BeautifulSoup\n",
    "\n",
    "s = Service('C:\\Program Files\\chromedriver.exe')\n",
    "myoptions = Options()\n",
    "driver = Chrome(service=s, options=myoptions) \n",
    "driver.maximize_window()\n"
   ]
  },
  {
   "cell_type": "code",
   "execution_count": 51,
   "metadata": {},
   "outputs": [],
   "source": [
    "time.sleep(1)\n",
    "driver.get('https://twitter.com/login')   \n",
    "\n"
   ]
  },
  {
   "cell_type": "code",
   "execution_count": 52,
   "metadata": {},
   "outputs": [],
   "source": [
    "\n",
    "### i have changed the long long xpath to simple xpaths by theirs unique attribtes\n",
    "### type crtl + f in inspect window and type input you will only one desired result and for good reason we are getting by its attribute\n",
    "\n",
    "\n",
    "username = WebDriverWait(driver, 10).until(EC.presence_of_element_located((By.XPATH, '//input[@name=\"text\"]'))) \n",
    "username.send_keys('03208234080')\n",
    "username.send_keys(Keys.ENTER)  ## dont need to click on login or enter button just press enter with the login info it will go\n",
    "\n"
   ]
  },
  {
   "cell_type": "code",
   "execution_count": 53,
   "metadata": {},
   "outputs": [],
   "source": [
    "## Entering password\n",
    "\n",
    "time.sleep(2)\n",
    "passwd = WebDriverWait(driver, 30).until(EC.visibility_of_element_located((By.XPATH, '//input[@name=\"password\"]')))\n",
    "passwd.send_keys('hamzasaleem')\n",
    "passwd.send_keys(Keys.ENTER)\n"
   ]
  },
  {
   "cell_type": "code",
   "execution_count": 54,
   "metadata": {},
   "outputs": [],
   "source": [
    "## Searching Query\n",
    "\n",
    "time.sleep(2)\n",
    "search_input = WebDriverWait(driver, 20).until(EC.visibility_of_element_located((By.XPATH,'//input[@aria-label=\"Search query\"]')))\n",
    "search_input.send_keys(\"Imran Khan\")\n",
    "search_input.send_keys(Keys.ENTER)\n"
   ]
  },
  {
   "cell_type": "code",
   "execution_count": 55,
   "metadata": {},
   "outputs": [],
   "source": [
    "## click on people button for people profiles\n",
    "\n",
    "## By link text :)\n",
    "people = WebDriverWait(driver, 30).until(EC.visibility_of_element_located((By.LINK_TEXT, 'People')))\n",
    "people.click()\n",
    "\n",
    "time.sleep(2)\n"
   ]
  },
  {
   "cell_type": "code",
   "execution_count": 56,
   "metadata": {},
   "outputs": [],
   "source": [
    "### Again searching Imran khan from people sby link text wo that we can click to it\n",
    "\n",
    "### this way you can search any people just change the perosn name and yes !\n",
    "\n",
    "\n",
    "click_imran = WebDriverWait(driver, 20).until(EC.visibility_of_element_located((By.LINK_TEXT, 'Imran Khan')))\n",
    "click_imran.click()\n"
   ]
  },
  {
   "cell_type": "code",
   "execution_count": 78,
   "metadata": {},
   "outputs": [],
   "source": [
    "### Now fetch the tweets in a list and when list length becomes 100 break the scrol loop"
   ]
  },
  {
   "cell_type": "code",
   "execution_count": 79,
   "metadata": {},
   "outputs": [],
   "source": [
    "\n",
    "#tweets are present under //*[@data-testid=\"tweetText\"]\n"
   ]
  },
  {
   "cell_type": "code",
   "execution_count": 57,
   "metadata": {},
   "outputs": [
    {
     "data": {
      "text/plain": [
       "'@ImranKhanPTI'"
      ]
     },
     "execution_count": 57,
     "metadata": {},
     "output_type": "execute_result"
    }
   ],
   "source": [
    "#### user naeme of perosm \n",
    "### found this resorce for better xpath locator : https://www.toolsqa.com/selenium-webdriver/write-effective-xpaths/\n",
    "\n",
    "### actually username is present //*[@data-testid=\"UserName\"]' inside a span sp have to get that span\n",
    "\n",
    "\n",
    "user_name  = driver.find_element(By.XPATH,'((//*[@data-testid=\"UserName\"])//span)[last()]') ### brackets are important\n",
    "\n",
    "user_name.text"
   ]
  },
  {
   "cell_type": "code",
   "execution_count": 60,
   "metadata": {},
   "outputs": [],
   "source": [
    "# Tweets = []\n",
    "# last_height =driver.execute_script('return document.body.scrollHeight')\n",
    "# while True:\n",
    "#     time.sleep(3)\n",
    "#     driver.execute_script('window.scrollTo(0,document.body.scrollHeight)')\n",
    "#     time.sleep(3)\n",
    "#     new_height =driver.execute_script('return document.body.scrollHeight')\n",
    "#     if (new_height == last_height):\n",
    "#         break\n",
    "#     last_height = new_height\n",
    "#     tweet = driver.find_elements(By.XPATH, '//*[@data-testid=\"tweetText\"]')\n",
    "#     for t in tweet:\n",
    "#         Tweets.append(t.text)\n",
    "#     if len(Tweets) >= 30:\n",
    "#             break   \n",
    "# print(len(Tweets))\n",
    "# Tweets        "
   ]
  },
  {
   "cell_type": "code",
   "execution_count": 59,
   "metadata": {},
   "outputs": [],
   "source": [
    "# ti = driver.find_elements(By.XPATH, '//*[@data-testid=\"tweetText\"]')\n",
    "\n",
    "# print(len(ti))"
   ]
  },
  {
   "cell_type": "code",
   "execution_count": 61,
   "metadata": {},
   "outputs": [],
   "source": [
    "############ 50 tweets with their dates\n",
    "\n",
    "articles = []\n",
    "Tweets = []\n",
    "Times=[]\n",
    "\n",
    "while True:\n",
    "    time.sleep(1)\n",
    "    article = driver.find_elements(By.TAG_NAME,'article')\n",
    "    for a in article:\n",
    "        if a not in articles:\n",
    "            tweet = a.find_element(By.XPATH, './/*[@data-testid=\"tweetText\"]')\n",
    "            articles.append(a)\n",
    "            t = a.find_element(By.XPATH,'.//time')\n",
    "\n",
    "            Times.append(t.text)\n",
    "            Tweets.append(tweet.text)\n",
    "\n",
    "    if len(Tweets) >=10:\n",
    "        break\n",
    "    driver.execute_script(\"window.scrollBy(0,500);\")   \n"
   ]
  },
  {
   "cell_type": "code",
   "execution_count": 62,
   "metadata": {},
   "outputs": [
    {
     "data": {
      "text/plain": [
       "['روس سےسستا تیل خریدنےکی بجائےتبدیلئ سرکار کی سازش سےلائی گئی امپورٹڈحکومت خود کو1100ارب کا NRO-2دیتےہوئےعوام کو ناقابلِ برداشت بوجھ تلے کچلنےکا سلسلہ جاری رکھےہوئےہے۔پٹرول 99 جبکہ ڈیزل 133روپےمہنگاکیاجاچکاہے۔اس کیخلاف کل ہمارےساتھ شاملِ احتجاج ہوں!',\n",
       " 'Instead of buying cheaper oil from Russia Imported govt, brought in by US regime change conspiracy, continues to put unbearable burden on people while giving themselves NRO2 worth Rs 1100 bn. Total increase Rs 99 for petrol, Rs 133 for diesel. Join our protest ag this tomorrow.',\n",
       " 'Congratulations Ahmad Nawaz on being elected President of Oxford Union. This brave young man who survived the 2014 APS terrorist attack, is an inspiration for all. Ahmad you make us all proud with your spirit & determination reflected in your continuing achievements.',\n",
       " 'اپنی ٹائیگر فورس، اپنے نوجوانوں اور اپنی خواتین کیلئے میرا خصوصی پیغام۔',\n",
       " '2جولائی کو ہم قوم کو کچلتی ہوئی مہنگائی،تبدیلئ حکومت کی امریکی سازش کےذریعےپاکستان پر مسلط امپورٹڈ سرکار اور اس سرکار کیجانب سےاپنی1100 ارب کی کرپشن بچانے کیلئےمہیا کئےگئےNRO-2 کیخلاف ملک بھر میں پرامن احتجاج کریں گے۔اسلام آبادکےاحتجاج کی قیادت میں پریڈ گراؤنڈ میں کروں گا۔',\n",
       " 'On 2 July we will hold peaceful protests across Pakistan against Imported govt imposed on Pak by US regime change conspiracy & the NRO2 they engineered to save their Rs 1100 bn corruption plus spiralling prices crushing nation. I will lead the Islamabad protest at Parade Ground.',\n",
       " 'My special message for our tiger force, all our youth and our women.',\n",
       " 'سندھ کی 4ڈویژنز میں LBEsہورہےہیں۔PPPکیجانب سے ہمارےامیدواروں کو ہراساں کرنے+SCکےاحکامات کی روشنی میں آرٹیکل140-Aکےتحت اختیارات کی مقامی نمائندوں تک منتقلی سےگریزکےباوجود ہم حصہ لےرہےہیں۔سندھ کے لوگوں سےمیری اپیل ہےکہPTIکےامیدواروں کو ووٹ دیں اور #ZardariMafia کا صفایاکر دیں',\n",
       " 'LBEs are to be held in 4 divs of Sindh. Despite PPP terrorising our candidates & not following SC orders to devolve authority to local reps under Art 140A, we are taking part in the elections. \\nI ask people of Sindh to vote for PTI candidates & eliminate the #ZardariMafia',\n",
       " 'ترکی کے شیخ محمود آفندی کی رحلت کے بارے میں جان کرنہایت افسردہ ہوں۔ إِنَّا لِلّهِ وَإِنَّـا إِلَيْهِ رَاجِعونَ! انہوں نے نہایت کٹھن حالات میں دین و سنت کا احیاء کیا اور #ترکی سمیت دنیا بھر میں کروڑوں لوگوں کو متاثر کیا۔ ان کا وصال امت کیلئے ایک عظیم نقصان ہے۔',\n",
       " \"Innā li-Llāhi wa inna ilayhi rāji'ūn. \\nSaddened to learn of the passing of  Shaykh Mahmud Effendi of Turkey.  He revived Islam & Sunnah at a  challenging time, inspiring millions of people in #Turkey & around the World. \\nA great loss for the Ummah.\",\n",
       " 'دیوالیہ پن کے کنارے کھڑی معیشت کو بچاتے ہوئے آئی ایم ایف پروگرام، کوروناء جیسی عالمگیر وباء اور اشیاء کی (عالمی سطح پر) قیمتوں میں اضافے کے غیرمعمولی دور کے باوجود میری حکومت ہماری تاریخ میں پہلی مرتبہ ایک فلاحی ریاست کی بنیاد رکھنے میں کامیاب رہی۔',\n",
       " 'زلزلے کے نتیجے میں جانی نقصان پر میری دعائیں اور ہمدردیاں افغان عوام اور حکومت کے ساتھ ہیں۔ میں نے خیبرپختونخوا حکومت کو ہر قسم کی امداد خصوصاً طبی سہولیات کی فراہمی کی ہدایات دے دی ہیں۔',\n",
       " 'While grappling with stabilising a bankrupt economy, IMF programme, Covid 19 and commodity super cycle, our govt still managed to lay the foundation of a welfare state for the first time in our history.',\n",
       " 'My condolences & prayers go to the Govt & people of Afghanistan for the loss of lives suffered in the earthquake. I have asked the KP Govt to especially facilitate provision of all medical assistance.',\n",
       " 'ہم اپنےحقیقی آزادی مارچ کےپرامن شرکاءپر کیاجانےوالا ظلم کبھی نہیں بھولیں گے۔جس طرح خصوصاً25مئی کو فیملیز پر آنسوگیس چلائی گئی+24کورات کےاندھیرےمیں ہمارےلوگوں کےگھروں پر یلغارکی گئی،اس قسم کی وحشت تومجھےمشرف کےمارشل لاءکےدوران بھی کبھی دیکھنےکو نہ ملی',\n",
       " \"We will not forget the brutality unleashed on our peaceful Haqiqi Azadi March participants. Even during Gen Musharraf's Martial law I never saw such brutality esp the way families were tear gassed on 25th May and night raids into ppl's homes on the 24th.\",\n",
       " 'پاکستان کی تاریخ کا آج سیاہ دن ہےجب مجرموں کی امپورٹڈسرکارکےترمیم شدہ نیب قانون نے احتساب ہی کو دفن کردیا۔تبدیلئ حکومت کی امریکی سازش کے ذریعےمحض مجرموں کےاس ٹولےکو ایک اورNRO دینےکیلئےپاکستان کی پوری معیشت+سیاسی نظام کو پٹری سےاتاراگیا۔نون لیگ کاخرم دستگیراسکی تصدیق کرچکاہے',\n",
       " 'ہمارےرسولِ محترم ﷺکےفرمان کامفہوم ہےکہ تباہی ان معاشروں کامقدر بنتی ہےجہاں کمزور کی پیٹھ پر تو تعزیر کا کوڑا برستاہےمگر طاقتورقانون کی پہنچ سے دور رہتےہیں۔آج نیب کےاس ترمیم شدہ قانون کے ساتھ ہم وائیٹ کالرکرائم کےمجرموں کواحتساب سےمبرّا کرتے ہوئے تباہی کی جانب بڑھ رہے ہیں۔',\n",
       " 'اس مجرم مافیا کو NRO-دوم ملے گا اور نیب کے زیرِتفتیش 1200 ارب میں سے1100ارب مالیت کےمقدمات اب نیب کے دائرۂ کار سے نکل جائیں گے۔تاریخ پاکستان کیخلاف اس سازش کے منصوبہ سازوں+اسےکامیاب بنانےوالوں کو فراموش کرے گی نہ ہی کبھی معاف کرے گی۔',\n",
       " \"Today is Black Day in Pak's history when Imported govt of crooks amended NAB law comes in ending accountability. Entire economy & pol system of Pak was derailed thru US-backed regime change conspiracy simply to give this cabal of crooks another NRO. PMLN's Dastgir confirmed this.\",\n",
       " 'Our Prophet PBUH had said societies are destroyed when the poor are jailed while the rich are not held accountable. Today, with this one amended NAB law we are heading towards destruction by removing white collar criminals from accountability.',\n",
       " \"Rs 1100 bn of the Rs 1200 bn that was being investigated by NAB will now be out of NAB's jurisdiction, giving this criminal mafia their NRO2. History will neither forget nor forgive all those who were part of & enabled this conspiracy against Pakistan to succeed.\",\n",
       " 'پوری قوم خصوصاً گھرانوں،خواتین اور عمررسیدہ شہریوں کا شکریہ جنہوں نےبعض مقامات پربارش جیسی مشکلات کے باوجودکمرتوڑمہنگائی اورتبدیلئ سرکارکی امریکی سازش کے نتیجے میں مسلط مجرموں کی امپورٹڈ حکومت کومستردکرنےکیلئے ہمارےاحتجاج میں شرکت کی #مہنگائی_نامنظور',\n",
       " 'Thank you to the nation for coming out across Pakistan, esp the families, women & elderly who braved difficulties & in some cities rain, to join our protest against massive inflation & clearly reject Imported Govt of crooks imposed by US regime change conspiracy #مہنگائی_نامنظور',\n",
       " 'دنیاکےمعتبرترین اہلِ دانش میں سےایک نوم چومسکی نے بھی تبدیلئ سرکارکی امریکی سازش سےپاکستان پرمسلط کئے گئےمجرموں کیجانب سےریاستی جبرکیخلاف آواز میں اپنی آوازملادی ہے۔حقیقی آزادی مارچ کےدوران خصوصاً ہمارےجمہوری حقوق نہایت ظالمانہ اندازمیں پامال کئے گئے',\n",
       " \"Chomsky, one of world's most respected intellectuals, has added his voice to state oppression by this cabal of crooks foisted on Pak by US backed regime change conspiracy. Our democratic rights have been brutally violated, esp during our Haqiqi Azadi March\",\n",
       " 'پاکستان کو فروری 2018 میں گرے فہرست کیلئے نامزد کیا گیا اور ہمیں کسی بھی ملک کو دیے جانے والے ایکشن پلان میں سے مشکل ترین کو مکمل کرنا تھا۔جب میری حکومت آئی تو بلیک لسٹ میں شمولیت کے سنگین خطرات منڈلا رہے تھے۔ فیٹف کی سفارشات پر عملدرآمد کی ہماری تاریخ بھی سازگار نہ تھی۔',\n",
       " 'فیٹف نے بارہا میری حکومت کے کام اور سیاسی عزم کو سراہا۔ ہم نے بلیک لسٹ ہی سے ملک کو نہیں بچایا بلکہ 34 میں سے 32 نکات پر کام مکمل کیا۔ ہم نے بقیہ 2 نکات پر اپریل میں عملدرآمد رپورٹ جمع کروائی جس کی بنیاد پر اب فیٹف نے پاکستان کا ایکشن پلان مکمل قرار دیا ہے۔',\n",
       " 'مجھے یقین ہے کہ ایکشن پلان پر تکمیل شدہ کام کی تصدیق کیلئے فیٹف ٹیم کا ضابطے کا دورہ بھی کامیابی سے مکمل ہوگا۔ حماد اظہر، انکی رابطہ کمیٹی کے اراکین اور یہ فریضہ سرانجام دینے والے افسران نے غیرمعمولی کارکردگی کا مظاہرہ کیا۔ پورے ملک کو آپ پر فخر ہے۔',\n",
       " 'پاکستان تحریک انصاف نے حقیقی آزادی مارچ کے دوران شہید ہونے والے دونوں نوجوانوں کے لواحقین کو فی خاندان 1 کروڑ روپے ادا کئے ہیں۔ یہ خیبرپختونخوا سے سید احمد جان کے اہلِ خانہ ہیں۔',\n",
       " 'Pak was nominated for grey listing by FATF in Feb 2018 & had to complete the most challenging action plan ever given to any jurisdiction. When my govt took over, we faced dire prospect of Blacklisting by that body. Our past compliance history with FATF was also not favourable.',\n",
       " \"FATF repeatedly praised work & the political will my govt demonstrated. We not only averted blacklisting, but also completed 32 out of 34 action items. We submitted compliance report on remaining 2 items in April based on which FATF now declared Pak's Action Plan as completed.\",\n",
       " 'I am confident that prerequisite onsite visit of FATF team to confirm completed work on our action plan will pass successfully too. Hammad Azhar, members of his FATF coord committee & officers who worked on this task performed exceptionally well. The whole country is proud of you',\n",
       " 'PTI has given Rs 1 crore each to families of both young men who lost their lives during the Haqiqi Azadi March. This is family of Sayed Ahmed Jan of KP.',\n",
       " 'جب تبدیلئ سرکار کی امریکی سازش کے ذریعے مسلط کئے جانے والے امپورٹڈ کرائم منسٹر اور اسکے مجرم حواریوں کا جتھا اپنی کرپشن اور منی لانڈرنگ بچانے کیلئے مافیاز کے سے ہتھکنڈے استعمال کرتے ہیں تو گواہان اور تفتیش کاروں کی اچانک اموات پر سوالات تو اٹھتے ہیں۔',\n",
       " \"When Imported Govt's Crime Minister & his cabal of crooks, brought in through US regime change conspiracy, use mafia tactics to save their corruption & money laundering, questions arise over the sudden deaths of witnesses & investigators.\",\n",
       " 'توانائی کےنرخوں میں اس غیرمعمولی اضافے، جو معاشرے کے تمام طبقات خصوصاً مزدور، سفیدپوش، کاشتکار اور تنخواہ دار طبقات کو متاثر کرتے ہوئے سب کیلئے سنگین مشکلات کا باعث بنے گا، کیخلاف احتجاج کیلئے ہم سب کو اتوار کی شب 9 بجے ضرور باہر نکلنا چاہئیے۔',\n",
       " 'بدقسمتی سے مہنگائی کی ایک اور لہر آرہی ہے کیونکہ جب سے مجرموں کی امپورٹڈ حکومت نے تبدیلئ سرکار کی امریکی سازش کے ذریعے اقتدار سنبھالا ہے ڈالر کے مقابلے میں روپیہ اپنی قدر کھوتے ہوئے مزید 15% (30 روپے) گر چکا ہے۔',\n",
       " 'On Sunday 9pm we must all come out to protest this unprecedented rise in energy prices that will cause hardship across the board affecting all sections of society esp labourers, safedposh, farmers & salaried class.',\n",
       " 'Sadly another wave of inflation is coming as Rupee devalues further - has fallen 15% (Rs 30) to the dollar since Imported govt of crooks came to power through US regime change conspiracy.',\n",
       " 'جب سےکرائم منسٹر کاکرپٹ بیٹا پنجاب میں ایک ڈھونگ انتخاب کےذریعےغیرقانونی طورپراقتدار پر قابض ہواہے،پاکستان کا سب سےزیادہ آبادی والا صوبہ مکمل سیاسی انتشار کی زدمیں ہے۔لوگ مشکلات کےشکار،کسانوں کی فصلیں خطرےمیں ہیں جبکہ حکومت کی بجائے ہرطرف مجرم مافیا دندناتا دکھائی دے رہاہے',\n",
       " 'پولیس اور مقامی انتظامیہ اس مافیا سےمل چکےہیں اور انہوں نےPTIکے پرامن کارکنان، رہنماؤں اور انکے اہلِ خانہ پر جبر و دہشت کے پہاڑ توڑے۔اب انکا خیال ہے کہ وہ عوام کی منتخب قیادت  کو جوابدہ نہیں۔ہم اس انتشار اور مجرم راج کےتسلسل کی کسی طور اجازت نہیں دے سکتے۔',\n",
       " \"Ever since Imported Crime Minister's corrupt son illegally grabbed power in Punjab thru a farcical election there is complete political anarchy in Pak's most populous province. People suffering, farmers crops under threat, no governance in sight just a criminal mafia running riot\",\n",
       " \"Police & local administration have become complicit with this mafia & had unleashed a reign of terror on peaceful PTI workers, ldrs & their families. Now they feel they r not answerable before the people's elected ldrship. We cannot allow such anarchy & criminal rule to prevail.\",\n",
       " 'بھارتی حکام کیجانب سے ہمارے پیارے نبی ﷺ کےبارے میں BJP کی ترجمان کے توہین آمیز کلمات کے خلاف احتجاج کرنے والے مسلمانوں کےگھر مسمارکئے جانےپر نہایت تشویش ہے۔ اپنے مسلم شہریوں، جن کے جذبات دنیا بھر کے مسلمانوں کی طرح شدید مجروح ہوئے، کے حوالے سے حساسیت کا مظاہرہ کرنے کی',\n",
       " 'بجائے بھارت سرکار نے گھر گراتے ہوئے اس ہرزہ سرائی کیخلاف سراپا احتجاج ان مسلمانوں کو نشانہ بنانے کا فیصلہ کیا۔ یہ غیر انسانی و سفاک اقدام نہایت قابلِ مذمت اور اسرائیلی طرزِ جارحیت میں سے ایک ہے۔',\n",
       " 'Shocking how Indian officials demolished the homes of Indian Muslims protesting against the blasphemous statements of BJP spokesperson against our beloved Holy Prophet PBUH. Instead of showing sensitivity to their Muslim citizens who, along with Muslims worldwide were deeply hurt',\n",
       " 'the Indian govt chose to target the Muslim protestors by demolishing their homes. This inhumane, fascistic action is utterly condemnable & straight out of the Israeli playbook.',\n",
       " 'قبائلی اضلاع کی خصوصی ضروریات کےپیشِ نظرمیری حکومت نے3گنااضافےکیساتھ انکی فنڈنگ131ارب کی۔امپورٹڈحکومت نےبجٹ میں محض110ارب رکھتےہوئے ترقیاتی بجٹ کم کیاجبکہ بےگھرآبادی کیلئےایک پائی مختص کی نہ ہی موجودہ بجٹ میں ایک روپےکااضافہ کیا۔اس سے مجرموں کی سرکارکی نااہلی+بدنیتی عیاں ہے']"
      ]
     },
     "execution_count": 62,
     "metadata": {},
     "output_type": "execute_result"
    }
   ],
   "source": [
    "### Tweets\n",
    "\n",
    "\n",
    "Tweets"
   ]
  },
  {
   "cell_type": "code",
   "execution_count": 63,
   "metadata": {},
   "outputs": [
    {
     "data": {
      "text/plain": [
       "['4h',\n",
       " '4h',\n",
       " 'Jun 27',\n",
       " 'Jun 27',\n",
       " 'Jun 27',\n",
       " 'Jun 27',\n",
       " 'Jun 27',\n",
       " 'Jun 25',\n",
       " 'Jun 25',\n",
       " 'Jun 23',\n",
       " 'Jun 23',\n",
       " 'Jun 22',\n",
       " 'Jun 22',\n",
       " 'Jun 22',\n",
       " 'Jun 22',\n",
       " 'Jun 22',\n",
       " 'Jun 21',\n",
       " 'Jun 20',\n",
       " 'Jun 20',\n",
       " 'Jun 20',\n",
       " 'Jun 20',\n",
       " 'Jun 20',\n",
       " 'Jun 20',\n",
       " 'Jun 20',\n",
       " 'Jun 20',\n",
       " 'Jun 19',\n",
       " 'Jun 19',\n",
       " 'Jun 17',\n",
       " 'Jun 17',\n",
       " 'Jun 17',\n",
       " 'Jun 17',\n",
       " 'Jun 17',\n",
       " 'Jun 17',\n",
       " 'Jun 17',\n",
       " 'Jun 17',\n",
       " 'Jun 17',\n",
       " 'Jun 17',\n",
       " 'Jun 16',\n",
       " 'Jun 16',\n",
       " 'Jun 16',\n",
       " 'Jun 16',\n",
       " 'Jun 15',\n",
       " 'Jun 15',\n",
       " 'Jun 15',\n",
       " 'Jun 15',\n",
       " 'Jun 14',\n",
       " 'Jun 14',\n",
       " 'Jun 14',\n",
       " 'Jun 14',\n",
       " 'Jun 12']"
      ]
     },
     "execution_count": 63,
     "metadata": {},
     "output_type": "execute_result"
    }
   ],
   "source": [
    "### Corresponding time\n",
    "\n",
    "\n",
    "Times"
   ]
  },
  {
   "cell_type": "code",
   "execution_count": 64,
   "metadata": {},
   "outputs": [],
   "source": [
    "######### 50 tweets\n",
    "# articles = []\n",
    "# Tweets=[]\n",
    "# Times=[]\n",
    "# while True:\n",
    "#     #time.sleep(1)\n",
    "#     article = driver.find_elements(By.TAG_NAME,'article')\n",
    "#     for a in article:\n",
    "#         if a not in articles:\n",
    "#             articles.append(a)\n",
    "#             tweet = a.find_element(By.XPATH, './/*[@data-testid=\"tweetText\"]')\n",
    "#             t = a.find_element(By.XPATH,'.//time')\n",
    "\n",
    "#             Tweets.append(tweet.text)\n",
    "#             Times.append(t.text)\n",
    "\n",
    "#         if len(Tweets) >= 10:\n",
    "#             break\n",
    "#     driver.execute_script(\"window.scrollBy(0,500);\")\n",
    "            \n",
    "#         tweet = driver.find_elements(By.XPATH, '//*[@data-testid=\"tweetText\"]')\n",
    "#         time = driver.find_element(By.XPATH,'')\n",
    "#         for t in tweet:\n",
    "#             if t.text not in Tweets:\n",
    "#                 Tweets.append(t.text)\n",
    "#         driver.execute_script(\"window.scrollBy(0,500);\")\n",
    "#         if len(Tweets) >= 10:\n",
    "#             break\n",
    "# print(\"Number of tweets :\", len(Tweets))        \n",
    "# print()"
   ]
  }
 ],
 "metadata": {
  "kernelspec": {
   "display_name": "Python 3.10.5 64-bit",
   "language": "python",
   "name": "python3"
  },
  "language_info": {
   "codemirror_mode": {
    "name": "ipython",
    "version": 3
   },
   "file_extension": ".py",
   "mimetype": "text/x-python",
   "name": "python",
   "nbconvert_exporter": "python",
   "pygments_lexer": "ipython3",
   "version": "3.10.5"
  },
  "orig_nbformat": 4,
  "vscode": {
   "interpreter": {
    "hash": "aa0111cc17ecd8cafd660c5dc05e67a11774bcc00aacf3fcad162efe3a73f979"
   }
  }
 },
 "nbformat": 4,
 "nbformat_minor": 2
}
