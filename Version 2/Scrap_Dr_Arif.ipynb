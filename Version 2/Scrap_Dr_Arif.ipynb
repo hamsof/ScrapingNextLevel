{
 "cells": [
  {
   "cell_type": "markdown",
   "id": "9776df66",
   "metadata": {},
   "source": [
    "# BeautifulSoup  "
   ]
  },
  {
   "cell_type": "code",
   "execution_count": 1,
   "id": "9d14e599",
   "metadata": {},
   "outputs": [],
   "source": [
    "import requests\n",
    "from bs4 import BeautifulSoup"
   ]
  },
  {
   "cell_type": "code",
   "execution_count": 2,
   "id": "d5167498",
   "metadata": {},
   "outputs": [],
   "source": [
    "url = 'https://hamsof.github.io/simple-book-show/'"
   ]
  },
  {
   "cell_type": "code",
   "execution_count": 3,
   "id": "eb139231",
   "metadata": {},
   "outputs": [],
   "source": [
    "r = requests.get(url)\n",
    "soup = BeautifulSoup(r.text,'html.parser')"
   ]
  },
  {
   "cell_type": "markdown",
   "id": "2282f334",
   "metadata": {},
   "source": [
    "#### Our Website is using tables to store and layout the data so will extract data using tables"
   ]
  },
  {
   "cell_type": "code",
   "execution_count": 4,
   "id": "7c5f4fca",
   "metadata": {},
   "outputs": [],
   "source": [
    "my_tables = soup.find_all('table')\n",
    "#print(my_tables)"
   ]
  },
  {
   "cell_type": "markdown",
   "id": "b3bb9ac4",
   "metadata": {},
   "source": [
    "Find vs Find_all "
   ]
  },
  {
   "cell_type": "markdown",
   "id": "a755a50d",
   "metadata": {},
   "source": [
    "#### There are total 3 tables for 9 books every table have 3 books data so if we call soup.find('table') we will get only first table while soup.find_all('table') will list all 3 tables data"
   ]
  },
  {
   "cell_type": "code",
   "execution_count": 5,
   "id": "727ef8b0",
   "metadata": {},
   "outputs": [
    {
     "name": "stdout",
     "output_type": "stream",
     "text": [
      "<p> Scraper Site <span class=\"small\"> Powered By © Dr. Arif Butt<span></span></span></p>\n"
     ]
    }
   ],
   "source": [
    "first_table = soup.find('table')\n",
    "first_p = soup.find('p')\n",
    "print(first_p)"
   ]
  },
  {
   "cell_type": "markdown",
   "id": "b2a80469",
   "metadata": {},
   "source": [
    "#### We can find the specific data by find function with tag name and classnames as well"
   ]
  },
  {
   "cell_type": "code",
   "execution_count": 6,
   "id": "2359d599",
   "metadata": {},
   "outputs": [
    {
     "name": "stdout",
     "output_type": "stream",
     "text": [
      "[<p class=\"left_allign price\">Rs.3000</p>, <p class=\"left_allign price\">Rs.9000</p>, <p class=\"left_allign price\">Rs.1500</p>, <p class=\"left_allign price\">Rs.2000</p>, <p class=\"left_allign price\">Rs.8000</p>, <p class=\"left_allign price\">Rs.1700</p>, <p class=\"left_allign price\">Rs.1050</p>, <p class=\"left_allign price\">Rs.3000</p>, <p class=\"left_allign price\">Rs.3800</p>]\n"
     ]
    }
   ],
   "source": [
    "all_prices = soup.find_all('p',{'class','price'})\n",
    "print(all_prices)"
   ]
  },
  {
   "cell_type": "markdown",
   "id": "948eb47c",
   "metadata": {},
   "source": [
    "#### But as data is in completely formatted in tables laout we can find all the data with a direct loop over tables rows\n",
    "#### There are total 7 rows (image,name,price,instock,stars,reviews,addToCardButton)\n",
    "Each row contain data for 3 books\n",
    "like you can see every row has 3 images,3 titles,3 prices etc that correspond to respective books\n",
    "lets make a loop over it"
   ]
  },
  {
   "cell_type": "code",
   "execution_count": 7,
   "id": "71ba835b",
   "metadata": {},
   "outputs": [],
   "source": [
    "prices = list()\n",
    "book_names = list()\n",
    "stock_info = list()\n",
    "prices = list()\n",
    "reviews = list()"
   ]
  },
  {
   "cell_type": "code",
   "execution_count": 8,
   "id": "c28844ca",
   "metadata": {},
   "outputs": [],
   "source": [
    "for table in my_tables:\n",
    "    rows = table.find_all('tr')\n",
    "    for index_row,row in enumerate(rows):\n",
    "        cols = row.find_all('td')\n",
    "        for col in cols:\n",
    "            \n",
    "            data = col.text.strip()     #this is final data which can converted to text \n",
    "            #print(index_row' ' ,data)   //this provides the information of data according to rows number\n",
    "            \n",
    "            #index_row==0 => row 0 contains images and right now we are interested in textual data only\n",
    "            \n",
    "            if(index_row==1):#names\n",
    "                book_names.append(data)\n",
    "                \n",
    "            elif(index_row==2):#price\n",
    "                prices.append(data)\n",
    "                \n",
    "            elif(index_row==3):#in stock\n",
    "                stock_info.append(data)   \n",
    "                \n",
    "            #elif(index_1==4):#star image icon\n",
    "            #elif(index_1==5):#reviews but it is string of like '30 reviews' we can direct find exact number by using its data-rating attribute lator \n",
    "            #elif(index_1==6):#add to cart buuton"
   ]
  },
  {
   "cell_type": "markdown",
   "id": "7b420df3",
   "metadata": {},
   "source": [
    "#### we can find data using attributes as well like : data-rating present in reviews tag"
   ]
  },
  {
   "cell_type": "code",
   "execution_count": 9,
   "id": "4bc45a67",
   "metadata": {},
   "outputs": [],
   "source": [
    "data  = soup.find_all('p',{'class':'review'})\n",
    "for review in data:\n",
    "    reviews.append(review['data-rating'])"
   ]
  },
  {
   "cell_type": "markdown",
   "id": "5e32bd22",
   "metadata": {},
   "source": [
    "#### Lets print the data from lists"
   ]
  },
  {
   "cell_type": "code",
   "execution_count": 10,
   "id": "de648c72",
   "metadata": {},
   "outputs": [
    {
     "name": "stdout",
     "output_type": "stream",
     "text": [
      "\n",
      "Welcome to Scrapper system\n",
      "\n",
      "BOOK :  1\n",
      "         Operating System Concepts By Avi Silberschatz\n",
      "         Rs.3000\n",
      "         In stock\n",
      "         30\n",
      "BOOK :  2\n",
      "         UNIX The TextbookBy Syed Mansoor Sarwar\n",
      "         Rs.9000\n",
      "         In stock\n",
      "         50\n",
      "BOOK :  3\n",
      "         Taxonomy of IDS By Arif Butt\n",
      "         Rs.1500\n",
      "         Not in stock\n",
      "         100\n",
      "BOOK :  4\n",
      "         Understanding operating systems By Ida Flynn\n",
      "         Rs.2000\n",
      "         In stock\n",
      "         10\n",
      "BOOK :  5\n",
      "         Computer Systems  By Randal E. Bryant\n",
      "         Rs.8000\n",
      "         Not in stock\n",
      "         50\n",
      "BOOK :  6\n",
      "         Linux bible  Book by Christopher Negus\n",
      "         Rs.1700\n",
      "         In stock\n",
      "         150\n",
      "BOOK :  7\n",
      "         Advanced Programming in the UNIX Environment  By W. Stevans\n",
      "         Rs.1050\n",
      "         In stock\n",
      "         2\n",
      "BOOK :  8\n",
      "         Operating Systems: A Design-oriented Approach By Charles Patrick Crowley\n",
      "         Rs.3000\n",
      "         Not in stock\n",
      "         5\n",
      "BOOK :  9\n",
      "         Hands-On Network Programming with C  By Lewis Van Winkle\n",
      "         Rs.3800\n",
      "         Not in stock\n",
      "         90\n"
     ]
    }
   ],
   "source": [
    "print(\"\\nWelcome to Scrapper system\\n\")\n",
    "for i in range (9):\n",
    "    print(\"BOOK : \" , i+1)\n",
    "    print(\"        \",book_names[i])\n",
    "    print(\"        \",prices[i])\n",
    "    print(\"        \",stock_info[i])\n",
    "    print(\"        \",reviews[i])"
   ]
  },
  {
   "cell_type": "code",
   "execution_count": null,
   "id": "8a2c35be",
   "metadata": {},
   "outputs": [],
   "source": []
  }
 ],
 "metadata": {
  "interpreter": {
   "hash": "0d16605e49b98d503ba2349e5c0b11c5a5990eeb505420b8ec4f9ab34d7a2058"
  },
  "kernelspec": {
   "display_name": "Python 3.9.7 ('base')",
   "language": "python",
   "name": "python3"
  },
  "language_info": {
   "codemirror_mode": {
    "name": "ipython",
    "version": 3
   },
   "file_extension": ".py",
   "mimetype": "text/x-python",
   "name": "python",
   "nbconvert_exporter": "python",
   "pygments_lexer": "ipython3",
   "version": "3.9.7"
  }
 },
 "nbformat": 4,
 "nbformat_minor": 5
}
